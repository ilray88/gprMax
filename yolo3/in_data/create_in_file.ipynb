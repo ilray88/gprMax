{
 "cells": [
  {
   "cell_type": "code",
   "execution_count": 2,
   "metadata": {
    "collapsed": true
   },
   "outputs": [],
   "source": [
    "import os\n",
    "import math\n",
    "import random\n",
    "filePrefix = 'data_'   #文件前缀\n",
    "fileSuffix = '.txt'    #文件后缀\n",
    "for i in range(5):\n",
    "    filename = filePrefix+str(i)+fileSuffix\n",
    "    e1 = random.randint(1,10)\t#Mate1的介电常数\n",
    "    e2 = random.randint(1,10)\t#Mate2的介电常数\n",
    "    x = random.uniform(0.20,0.70)#目标的中心ｘ坐标\n",
    "    x = round(x,2)\n",
    "    y = random.uniform(0.10,0.40)#目标的中心y坐标\n",
    "    y = round(y,2)\n",
    "    Twindows = (0.2*math.sqrt(e1)+0.24*math.sqrt(e2))/3e8*2\n",
    "    # Twindows = round(Twindows,2)\n",
    "    fl = open(filename,'w')\n",
    "    fl.write('#title: '+filename+'\\n')\n",
    "    fl.write('#domain: 1 0.5 0.002\\n')\n",
    "    fl.write('#dx_dy_dz: 0.002 0.002 0.002\\n')\n",
    "    # fl.write('时间窗可手动修改\\n')\n",
    "    fl.write('#time_window: '+str(Twindows)+'\\n')\n",
    "    # fl.write('以下参数可手动修改\\n\\n')\n",
    "    fl.write('#material: '+str(e1)+' 0 1 0 Mate1\\n'\n",
    "             '#material: '+str(e2)+' 0 1 0 Mate2\\n\\n'\n",
    "             '#waveform: ricker 1 1.5e9 my_ricker\\n'\n",
    "             '#hertzian_dipole: z 0.05 0.49 0 my_ricker\\n\\n'\n",
    "             '#rx: 0.055 0.49 0\\n\\n'\n",
    "             '#src_steps: 0.01 0 0\\n'\n",
    "             '#rx_steps: 0.01 0 0\\n\\n'\n",
    "             '#box: 0 0.24 0 1 0.44 0.002 Mate1\\n'\n",
    "             '#box: 0 0 0 1 0.24 0.002 Mate2\\n'\n",
    "             '#cylindrical_sector: z '+str(x)+' '+str(y)+' 0 0.002 0.02 180 180 pec\\n\\n'\n",
    "             'geometry_view: 0 0 0 1 0.5 0.002 0.002 0.002 0.002 mytest n\\n')\n",
    "fl.close()"
   ]
  },
  {
   "cell_type": "code",
   "execution_count": 2,
   "outputs": [],
   "source": [],
   "metadata": {
    "collapsed": false,
    "pycharm": {
     "name": "#%%\n"
    }
   }
  }
 ],
 "metadata": {
  "kernelspec": {
   "display_name": "Python 3",
   "language": "python",
   "name": "python3"
  },
  "language_info": {
   "codemirror_mode": {
    "name": "ipython",
    "version": 2
   },
   "file_extension": ".py",
   "mimetype": "text/x-python",
   "name": "python",
   "nbconvert_exporter": "python",
   "pygments_lexer": "ipython2",
   "version": "2.7.6"
  }
 },
 "nbformat": 4,
 "nbformat_minor": 0
}