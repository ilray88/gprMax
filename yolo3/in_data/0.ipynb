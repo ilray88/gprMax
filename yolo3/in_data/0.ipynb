{
 "cells": [
  {
   "cell_type": "code",
   "execution_count": 1,
   "metadata": {
    "collapsed": true
   },
   "outputs": [],
   "source": [
    "!pip freeze > requirements.txt\n",
    "!conda env export > environment.yaml"
   ]
  },
  {
   "cell_type": "raw",
   "source": [
    "#conda env create -f environment.yaml"
   ],
   "metadata": {
    "collapsed": false,
    "pycharm": {
     "name": "#%% raw\n"
    }
   }
  },
  {
   "cell_type": "code",
   "execution_count": 2,
   "outputs": [
    {
     "name": "stdout",
     "output_type": "stream",
     "text": [
      "Collecting tqdm\n",
      "  Using cached tqdm-4.62.3-py2.py3-none-any.whl (76 kB)\n",
      "Requirement already satisfied: colorama in d:\\programdata\\anaconda3\\lib\\site-packages (from tqdm) (0.3.9)\n",
      "Installing collected packages: tqdm\n",
      "Successfully installed tqdm-4.62.3\n"
     ]
    }
   ],
   "source": [
    "import os\n",
    "os.environ[\"http_proxy\"] = \"http://192.168.5.1:7890\"\n",
    "os.environ[\"https_proxy\"] = \"http://192.168.5.1:7890\"\n",
    "\n",
    "!pip install tqdm"
   ],
   "metadata": {
    "collapsed": false,
    "pycharm": {
     "name": "#%%\n"
    }
   }
  },
  {
   "cell_type": "code",
   "execution_count": 4,
   "outputs": [
    {
     "data": {
      "text/plain": "1"
     },
     "execution_count": 4,
     "metadata": {},
     "output_type": "execute_result"
    }
   ],
   "source": [
    "import win32api,win32con\n",
    "##提醒OK消息框\n",
    "win32api.MessageBox(0, \"运行完成\", \"提醒\",win32con.MB_ICONWARNING)\n"
   ],
   "metadata": {
    "collapsed": false,
    "pycharm": {
     "name": "#%%\n"
    }
   }
  },
  {
   "cell_type": "code",
   "execution_count": null,
   "outputs": [],
   "source": [],
   "metadata": {
    "collapsed": false,
    "pycharm": {
     "name": "#%%\n",
     "is_executing": true
    }
   }
  },
  {
   "cell_type": "code",
   "execution_count": null,
   "outputs": [],
   "source": [
    "import os\n",
    "os.environ[\"http_proxy\"] = \"http://192.168.5.1:7890\"\n",
    "os.environ[\"https_proxy\"] = \"http://192.168.5.1:7890\"\n",
    "\n",
    "!pip install numpy==1.12.1\n"
   ],
   "metadata": {
    "collapsed": false,
    "pycharm": {
     "name": "#%%\n"
    }
   }
  },
  {
   "cell_type": "code",
   "execution_count": null,
   "outputs": [],
   "source": [
    "import pandas as pd\n",
    "import numpy as np\n",
    "df=pd.read_csv(r'D:\\0ilraypan\\git_jia\\python_abu\\11.csv',header=None,sep=' ') #filename可以直接从盘符开始，标明每一级的文件夹直到csv文件，header=None表示头部为空，sep=' '表示数据间使用空格作为分隔符，如果分隔符是逗号，只需换成 ‘，’即可。\n",
    "print(df.head())\n",
    "print(df.tail())\n",
    "#作为示例，输出CSV文件的前5行和最后5行，这是pandas默认的输出5行，可以根据需要自己设定输出几行的值"
   ],
   "metadata": {
    "collapsed": false,
    "pycharm": {
     "name": "#%%\n"
    }
   }
  },
  {
   "cell_type": "code",
   "execution_count": null,
   "outputs": [],
   "source": [
    "import mplfinance as mpf\n",
    "data = df\n",
    "mpf.plot(data)\n",
    "\n"
   ],
   "metadata": {
    "collapsed": false,
    "pycharm": {
     "name": "#%%\n"
    }
   }
  },
  {
   "cell_type": "code",
   "execution_count": null,
   "outputs": [],
   "source": [
    "import pandas as pd\n",
    "nanos = pd.Series([1462282258000000000, 1462282258100000000, 1462282258200000000])\n",
    "pd.to_datetime(nanos)\n"
   ],
   "metadata": {
    "collapsed": false,
    "pycharm": {
     "name": "#%%\n"
    }
   }
  },
  {
   "cell_type": "code",
   "execution_count": null,
   "outputs": [],
   "source": [
    "pd.DatetimeIndex(nanos)\n"
   ],
   "metadata": {
    "collapsed": false,
    "pycharm": {
     "name": "#%%\n"
    }
   }
  },
  {
   "cell_type": "code",
   "execution_count": null,
   "outputs": [],
   "source": [
    "pd.DatetimeIndex(nanos).tz_localize('UTC')"
   ],
   "metadata": {
    "collapsed": false,
    "pycharm": {
     "name": "#%%\n"
    }
   }
  },
  {
   "cell_type": "code",
   "execution_count": null,
   "outputs": [],
   "source": [
    "!conda create -n abu --clone root"
   ],
   "metadata": {
    "collapsed": false,
    "pycharm": {
     "name": "#%%\n"
    }
   }
  },
  {
   "cell_type": "code",
   "execution_count": 1,
   "outputs": [],
   "source": [
    "import os\n",
    "import math\n",
    "import random\n",
    "filePrefix = 'data_'   #文件前缀\n",
    "fileSuffix = '.in'    #文件后缀\n",
    "for i in range(100):\n",
    "    filename = filePrefix+str(i)+fileSuffix\n",
    "    e1 = random.randint(1,10)\t#Mate1的介电常数\n",
    "    e2 = random.randint(1,10)\t#Mate2的介电常数\n",
    "    x = random.uniform(0.20,0.70)#目标的中心ｘ坐标\n",
    "    x = round(x,2)\n",
    "    y = random.uniform(0.10,0.40)#目标的中心y坐标\n",
    "    y = round(y,2)\n",
    "    Twindows = (0.2*math.sqrt(e1)+0.24*math.sqrt(e2))/3e8*2\n",
    "    # Twindows = round(Twindows,2)\n",
    "    fl = open(filename,'w')\n",
    "    fl.write('#title: '+filename+'\\n')\n",
    "    fl.write('#domain: 1 0.5 0.002\\n')\n",
    "    fl.write('#dx_dy_dz: 0.002 0.002 0.002\\n')\n",
    "    fl.write('时间窗可手动修改\\n')\n",
    "    fl.write('#time_window: '+str(Twindows)+'\\n')\n",
    "    fl.write('以下参数可手动修改\\n\\n')\n",
    "    fl.write('#material: '+str(e1)+' 0 1 0 Mate1\\n'\n",
    "             '#material: '+str(e2)+' 0 1 0 Mate2\\n\\n'\n",
    "             '#waveform: ricker 1 1.5e9 my_ricker\\n'\n",
    "             '#hertzian_dipole: z 0.05 0.49 0 my_ricker\\n\\n'\n",
    "             '#rx: 0.055 0.49 0\\n\\n'\n",
    "             '#src_steps: 0.01 0 0\\n'\n",
    "             '#rx_steps: 0.01 0 0\\n\\n'\n",
    "             '#box: 0 0.24 0 1 0.44 0.002 Mate1\\n'\n",
    "             '#box: 0 0 0 1 0.24 0.002 Mate2\\n'\n",
    "             '#cylindrical_sector: z '+str(x)+' '+str(y)+' 0 0.002 0.02 180 180 pec\\n\\n'\n",
    "             'geometry_view: 0 0 0 1 0.5 0.002 0.002 0.002 0.002 mytest n\\n')\n",
    "fl.close()\n"
   ],
   "metadata": {
    "collapsed": false,
    "pycharm": {
     "name": "#%%\n"
    }
   }
  }
 ],
 "metadata": {
  "kernelspec": {
   "display_name": "Python 3",
   "language": "python",
   "name": "python3"
  },
  "language_info": {
   "codemirror_mode": {
    "name": "ipython",
    "version": 2
   },
   "file_extension": ".py",
   "mimetype": "text/x-python",
   "name": "python",
   "nbconvert_exporter": "python",
   "pygments_lexer": "ipython2",
   "version": "2.7.6"
  }
 },
 "nbformat": 4,
 "nbformat_minor": 0
}